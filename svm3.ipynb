{
 "cells": [
  {
   "cell_type": "markdown",
   "id": "6e29e407-1f41-41bb-945b-c16d264f69a0",
   "metadata": {},
   "source": [
    "Q1. In order to predict house price based on several characteristics, such as location, square footage,\n",
    "number of bedrooms, etc., you are developing an SVM regression model. Which regression metric in this\n",
    "situation would be the best to employ?"
   ]
  },
  {
   "cell_type": "code",
   "execution_count": null,
   "id": "3e1290f3-e7c9-45dd-b5a0-d9ae504c240c",
   "metadata": {},
   "outputs": [],
   "source": [
    "Ans:- Predicting house prices using an SVM regression model, \n",
    "        The most appropriate regression metric to employ would be the mean squared error (MSE).\n",
    "      By minimizing the MSE, the SVM regression model aims to find the hyperplane .\n",
    "        minimizes the overall prediction error on the house prices. "
   ]
  },
  {
   "cell_type": "markdown",
   "id": "f98b2386-6de9-476e-8b87-96792d8b58c3",
   "metadata": {},
   "source": [
    "Q2. You have built an SVM regression model and are trying to decide between using MSE or R-squared as\n",
    "your evaluation metric. Which metric would be more appropriate if your goal is to predict the actual price\n",
    "of a house as accurately as possible?"
   ]
  },
  {
   "cell_type": "code",
   "execution_count": null,
   "id": "a258c40d-3814-43a4-a30e-b6f102e63589",
   "metadata": {},
   "outputs": [],
   "source": [
    "Ans:-The MSE provides a measure of the average squared difference between the predicted and actual house prices.\n",
    "      While R-squared is a useful metric for understanding the proportion of variance explained by the model."
   ]
  },
  {
   "cell_type": "markdown",
   "id": "ab726a0a-4068-4c85-aa7c-3590af68bca1",
   "metadata": {},
   "source": [
    "Q3. You have a dataset with a significant number of outliers and are trying to select an appropriate\n",
    "regression metric to use with your SVM model. Which metric would be the most appropriate in this\n",
    "scenario?"
   ]
  },
  {
   "cell_type": "code",
   "execution_count": null,
   "id": "f2e363b1-37fc-4684-b8d1-1c3035ebb2b8",
   "metadata": {},
   "outputs": [],
   "source": [
    "Ans:-MedAE & MAE Using robust metrics which  can help \n",
    "               mitigate the impact of outliers on the evaluation of the SVM regression model."
   ]
  },
  {
   "cell_type": "markdown",
   "id": "07a1f916-e2f7-4da1-8a7c-fb31dd1420c6",
   "metadata": {},
   "source": [
    "Q4. You have built an SVM regression model using a polynomial kernel and are trying to select the best\n",
    "metric to evaluate its performance. You have calculated both MSE and RMSE and found that both values\n",
    "are very close. Which metric should you choose to use in this case?"
   ]
  },
  {
   "cell_type": "code",
   "execution_count": null,
   "id": "164aa72c-841b-451c-a0d9-afbb0c7164d5",
   "metadata": {},
   "outputs": [],
   "source": [
    "Ans:-\n",
    "      The MSE is calculated by taking the average of the squared differences between the predicted and actual values.\n",
    "        The RMSE is the square root of the MSE and provides \n",
    "         a measure of the average magnitude of the errors in the original scale of the target variable"
   ]
  },
  {
   "cell_type": "markdown",
   "id": "b4911388-90ca-4672-88a3-f78b40ffc61c",
   "metadata": {},
   "source": [
    "Q5. You are comparing the performance of different SVM regression models using different kernels (linear,\n",
    "polynomial, and RBF) and are trying to select the best evaluation metric. Which metric would be most\n",
    "appropriate if your goal is to measure how well the model explains the variance in the target variable?"
   ]
  },
  {
   "cell_type": "code",
   "execution_count": null,
   "id": "de281d15-6952-4355-afea-d827a97a13b6",
   "metadata": {},
   "outputs": [],
   "source": [
    "Ans:-SVM regression model with the kernel & R-squared  values are different.\n",
    "       R-squared is the performance matrix which is used in regression.\n",
    "    In SVM the by default kernel is rbf(Radial Basis Function)."
   ]
  }
 ],
 "metadata": {
  "kernelspec": {
   "display_name": "Python 3 (ipykernel)",
   "language": "python",
   "name": "python3"
  },
  "language_info": {
   "codemirror_mode": {
    "name": "ipython",
    "version": 3
   },
   "file_extension": ".py",
   "mimetype": "text/x-python",
   "name": "python",
   "nbconvert_exporter": "python",
   "pygments_lexer": "ipython3",
   "version": "3.10.8"
  }
 },
 "nbformat": 4,
 "nbformat_minor": 5
}
